{
  "nbformat": 4,
  "nbformat_minor": 0,
  "metadata": {
    "colab": {
      "name": "TraceryDogSounds.ipynb",
      "provenance": [],
      "collapsed_sections": [],
      "authorship_tag": "ABX9TyN12o3E9Up8rR1GddJXWurS",
      "include_colab_link": true
    },
    "kernelspec": {
      "name": "python3",
      "display_name": "Python 3"
    }
  },
  "cells": [
    {
      "cell_type": "markdown",
      "metadata": {
        "id": "view-in-github",
        "colab_type": "text"
      },
      "source": [
        "<a href=\"https://colab.research.google.com/github/ThreeMachineExpression/traceryDogSounds/blob/main/TraceryDogSounds.ipynb\" target=\"_parent\"><img src=\"https://colab.research.google.com/assets/colab-badge.svg\" alt=\"Open In Colab\"/></a>"
      ]
    },
    {
      "cell_type": "code",
      "metadata": {
        "colab": {
          "base_uri": "https://localhost:8080/"
        },
        "id": "bwZErft0iadY",
        "outputId": "319afbe2-638c-480c-d7da-0e36e52a3699"
      },
      "source": [
        "# Install Tracery\r\n",
        "!pip install tracery"
      ],
      "execution_count": 1,
      "outputs": [
        {
          "output_type": "stream",
          "text": [
            "Collecting tracery\n",
            "  Downloading https://files.pythonhosted.org/packages/96/9a/7a7ffa8ace49ac6a3f422fdd83caf8d0ad0d132f01389f02845379033a7b/tracery-0.1.1.tar.gz\n",
            "Building wheels for collected packages: tracery\n",
            "  Building wheel for tracery (setup.py) ... \u001b[?25l\u001b[?25hdone\n",
            "  Created wheel for tracery: filename=tracery-0.1.1-cp36-none-any.whl size=7697 sha256=43b2919e6927defa7d4cb4d9f091d7d6e0b983ed56373ae99351028bbab9c2fc\n",
            "  Stored in directory: /root/.cache/pip/wheels/22/ba/09/8341e10777b9d2bf6d5414d3c9627b7812f5bedce4b3edacac\n",
            "Successfully built tracery\n",
            "Installing collected packages: tracery\n",
            "Successfully installed tracery-0.1.1\n"
          ],
          "name": "stdout"
        }
      ]
    },
    {
      "cell_type": "code",
      "metadata": {
        "colab": {
          "base_uri": "https://localhost:8080/"
        },
        "id": "pFv-yy0Vq4ch",
        "outputId": "34f4f995-92f1-4176-e933-5c79c5269271"
      },
      "source": [
        "import tracery\r\n",
        "\r\n",
        "rules = {\r\n",
        "    \"top\": \"#prefixr##suffix#\",\r\n",
        "    \"prefixr\": [\"#prefix#\",\"r#prefix#\",\"w#prefix#\",\"r#a##prefix#\"],\r\n",
        "    \"prefix\": [\"ar\", \"AR\", \"#a#r\", \"aw\", \"#a#w\"],\r\n",
        "    \"a\": [\"a\", \"A\", \"aa#a#\", \"#a#a\", \"#a#A\"],\r\n",
        "    \"suffix\": [\"OO#o#h\", \"oo#o#\", \"oo#o#w\"],\r\n",
        "    \"o\": [\"oo#o#\",\"OO#o#\",\"o#o#\", \"O#o#\",\"OOO\",\"ooo\"]\r\n",
        "}\r\n",
        "\r\n",
        "grammar = tracery.Grammar(rules)\r\n",
        "\r\n",
        "for i in range(10):\r\n",
        "  print(grammar.flatten(\"#top#\"))"
      ],
      "execution_count": 5,
      "outputs": [
        {
          "output_type": "stream",
          "text": [
            "awOOoooh\n",
            "rawoooooow\n",
            "aaaaAAaaawooooow\n",
            "wAwooOOOOOOOO\n",
            "wARoooOOO\n",
            "awoooOOOooOOooo\n",
            "rawOOOOOh\n",
            "waaaAaaroooOOooOOOOO\n",
            "rarooOOooOOOooooow\n",
            "AarooOOoOOOOOOOoooOOOw\n"
          ],
          "name": "stdout"
        }
      ]
    }
  ]
}
